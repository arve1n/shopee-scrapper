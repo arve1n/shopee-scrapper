{
 "cells": [
  {
   "cell_type": "code",
   "execution_count": 2,
   "metadata": {},
   "outputs": [],
   "source": [
    "import csv\n",
    "from bs4 import BeautifulSoup\n",
    "## because im using chrome for the scrapping i will use  selenium\n",
    "from selenium import webdriver\n",
    "import  requests"
   ]
  },
  {
   "cell_type": "code",
   "execution_count": 9,
   "metadata": {},
   "outputs": [],
   "source": [
    "driver=webdriver.Chrome()"
   ]
  },
  {
   "cell_type": "code",
   "execution_count": 10,
   "metadata": {},
   "outputs": [],
   "source": [
    "def get_url (keyword) :\n",
    "    template = 'https://shopee.co.id/search?keyword={}'\n",
    "    keyword= keyword.replace(' ','%20')\n",
    "    \n",
    "    # url=template.format(keyword)\n",
    "    # url += '&page={}'\n",
    "    return template.format(keyword)"
   ]
  },
  {
   "cell_type": "code",
   "execution_count": 11,
   "metadata": {},
   "outputs": [
    {
     "name": "stdout",
     "output_type": "stream",
     "text": [
      "https://shopee.co.id/search?keyword=Gaming%20Headset\n"
     ]
    }
   ],
   "source": [
    "url=get_url('Gaming Headset')\n",
    "print(url)\n",
    "driver.get(url)"
   ]
  },
  {
   "cell_type": "code",
   "execution_count": 22,
   "metadata": {},
   "outputs": [],
   "source": [
    "# html=driver.execute_script(\"return document.getElementsByTagName('html')[0].innerHTML\")\n",
    "soup=BeautifulSoup(driver.page_source,'html.parser')"
   ]
  },
  {
   "cell_type": "code",
   "execution_count": 23,
   "metadata": {},
   "outputs": [
    {
     "data": {
      "text/plain": [
       "60"
      ]
     },
     "execution_count": 23,
     "metadata": {},
     "output_type": "execute_result"
    }
   ],
   "source": [
    "results=soup.find_all('div',{'data-sqe':'item'})\n",
    "len(results)"
   ]
  },
  {
   "cell_type": "code",
   "execution_count": 45,
   "metadata": {},
   "outputs": [
    {
     "data": {
      "text/plain": [
       "'GAMEN Headset Earphone Headphone Gaming Cat Ear GH1100 Pink LED RGB Lighting Original Bass - Garansi Resmi 1 Tahun100% Ori'"
      ]
     },
     "execution_count": 45,
     "metadata": {},
     "output_type": "execute_result"
    }
   ],
   "source": [
    "# item=results[0]\n",
    "# a= item.a\n",
    "\n",
    "description=soup.find_all('div',{'data-sqe':'name'}) ##class':'ie3A+n bM+7UW Cve6sh'\n",
    "description[0].get_text()"
   ]
  },
  {
   "cell_type": "code",
   "execution_count": 66,
   "metadata": {},
   "outputs": [
    {
     "data": {
      "text/plain": [
       "'Rp13.500'"
      ]
     },
     "execution_count": 66,
     "metadata": {},
     "output_type": "execute_result"
    }
   ],
   "source": [
    "price= soup.find_all('div',class_='vioxXd rVLWG6')\n",
    "price[14].get_text()\n",
    "# price=price_parent.find('span','a-offscreen').text\n",
    "# print(price)"
   ]
  },
  {
   "cell_type": "code",
   "execution_count": 41,
   "metadata": {},
   "outputs": [
    {
     "name": "stdout",
     "output_type": "stream",
     "text": [
      "5\n"
     ]
    }
   ],
   "source": [
    "rating=soup.find_all('div',class_='shopee-rating-stars__stars')\n",
    "rating=len(rating[0])\n",
    "print(rating)\n"
   ]
  },
  {
   "cell_type": "code",
   "execution_count": 30,
   "metadata": {},
   "outputs": [
    {
     "data": {
      "text/plain": [
       "'764 Terjual'"
      ]
     },
     "execution_count": 30,
     "metadata": {},
     "output_type": "execute_result"
    }
   ],
   "source": [
    "sold_qty=soup.find_all('div',class_='r6HknA')\n",
    "sold_qty[0].get_text()\n",
    "\n"
   ]
  },
  {
   "cell_type": "code",
   "execution_count": 31,
   "metadata": {},
   "outputs": [
    {
     "name": "stdout",
     "output_type": "stream",
     "text": [
      "//seller.shopee.co.id\n"
     ]
    }
   ],
   "source": [
    "link_parent=soup.a\n",
    "link=link_parent.get('href')\n",
    "print(link)"
   ]
  },
  {
   "cell_type": "code",
   "execution_count": 67,
   "metadata": {},
   "outputs": [],
   "source": [
    "product_name,product_price,product_rating,product_sold= [],[],[],[]\n",
    "\n",
    "for i in soup.find_all('div',{'class':'ie3A+n bM+7UW Cve6sh'}):\n",
    "    product_name.append(i.text)\n",
    "    \n",
    "for i in soup.find_all('div',class_='vioxXd rVLWG6'):\n",
    "    product_price.append(i.text)\n",
    "    \n",
    "for i in soup.find_all('div',class_='shopee-rating-stars__stars'):\n",
    "    rating=len(i)\n",
    "    product_rating.append(rating)\n",
    "    \n",
    "for i in soup.find_all('div',class_='r6HknA'):\n",
    "    product_sold.append(i.text)"
   ]
  },
  {
   "cell_type": "code",
   "execution_count": 68,
   "metadata": {},
   "outputs": [
    {
     "data": {
      "text/plain": [
       "15"
      ]
     },
     "execution_count": 68,
     "metadata": {},
     "output_type": "execute_result"
    }
   ],
   "source": [
    "len(product_price)"
   ]
  },
  {
   "cell_type": "code",
   "execution_count": 69,
   "metadata": {},
   "outputs": [],
   "source": [
    "product_name,product_price,product_rating,product_sold= [],[],[],[]\n",
    "\n",
    "for page in range(1,100):\n",
    "    main_link='https://shopee.co.id/search?keyword=gaming%20headset&page={}'.format(page)\n",
    "    driver.get(main_link)\n",
    "    for i in soup.find_all('div',{'class':'ie3A+n bM+7UW Cve6sh'}):\n",
    "        product_name.append(i.text)\n",
    "    \n",
    "    for i in soup.find_all('div',class_='vioxXd rVLWG6'):\n",
    "        product_price.append(i.text)\n",
    "        \n",
    "    for i in soup.find_all('div',class_='shopee-rating-stars__stars'):\n",
    "        rating=len(i)\n",
    "        product_rating.append(rating)\n",
    "        \n",
    "    for i in soup.find_all('div',class_='r6HknA'):\n",
    "        product_sold.append(i.text)\n",
    "        "
   ]
  },
  {
   "cell_type": "code",
   "execution_count": 70,
   "metadata": {},
   "outputs": [
    {
     "data": {
      "text/plain": [
       "1485"
      ]
     },
     "execution_count": 70,
     "metadata": {},
     "output_type": "execute_result"
    }
   ],
   "source": [
    "len(product_name)"
   ]
  },
  {
   "cell_type": "code",
   "execution_count": 71,
   "metadata": {},
   "outputs": [],
   "source": [
    "listcols=['product_name','product_price','rating','product_sold']\n",
    "dict_data=dict(zip(\n",
    "        listcols,\n",
    "            (product_name,\n",
    "             product_price,\n",
    "             rating,\n",
    "             product_sold)\n",
    "\n",
    "))"
   ]
  },
  {
   "cell_type": "code",
   "execution_count": 72,
   "metadata": {},
   "outputs": [],
   "source": [
    "import json\n",
    "with open ('Shopee_Scrap.json','w') as fp:\n",
    "    json.dump(dict_data,fp)"
   ]
  },
  {
   "cell_type": "code",
   "execution_count": 75,
   "metadata": {},
   "outputs": [
    {
     "data": {
      "text/html": [
       "<div>\n",
       "<style scoped>\n",
       "    .dataframe tbody tr th:only-of-type {\n",
       "        vertical-align: middle;\n",
       "    }\n",
       "\n",
       "    .dataframe tbody tr th {\n",
       "        vertical-align: top;\n",
       "    }\n",
       "\n",
       "    .dataframe thead th {\n",
       "        text-align: right;\n",
       "    }\n",
       "</style>\n",
       "<table border=\"1\" class=\"dataframe\">\n",
       "  <thead>\n",
       "    <tr style=\"text-align: right;\">\n",
       "      <th></th>\n",
       "      <th>product_name</th>\n",
       "      <th>product_price</th>\n",
       "      <th>rating</th>\n",
       "      <th>product_sold</th>\n",
       "    </tr>\n",
       "  </thead>\n",
       "  <tbody>\n",
       "    <tr>\n",
       "      <th>0</th>\n",
       "      <td>GAMEN Headset Earphone Headphone Gaming Cat Ea...</td>\n",
       "      <td>Rp150.000</td>\n",
       "      <td>5</td>\n",
       "      <td>764 Terjual</td>\n",
       "    </tr>\n",
       "    <tr>\n",
       "      <th>1</th>\n",
       "      <td>Livideas Headset Gaming Wired 3.5mm Stereo Bas...</td>\n",
       "      <td>Rp20.000 - Rp109.000</td>\n",
       "      <td>5</td>\n",
       "      <td>6,3RB Terjual</td>\n",
       "    </tr>\n",
       "    <tr>\n",
       "      <th>2</th>\n",
       "      <td>Onikuma K9 Rgb Baru Warna Pink Telinga Kucing ...</td>\n",
       "      <td>Rp320.000 - Rp459.000</td>\n",
       "      <td>5</td>\n",
       "      <td>1,8RB Terjual</td>\n",
       "    </tr>\n",
       "    <tr>\n",
       "      <th>3</th>\n",
       "      <td>Olike Hero Bolt TWS Pro Gaming Bluetooth Heads...</td>\n",
       "      <td>Rp229.000</td>\n",
       "      <td>5</td>\n",
       "      <td>2,1RB Terjual</td>\n",
       "    </tr>\n",
       "    <tr>\n",
       "      <th>4</th>\n",
       "      <td>( COD ) Viqoo Headphone Gaming G10 Headset Gam...</td>\n",
       "      <td>Rp89.900</td>\n",
       "      <td>5</td>\n",
       "      <td>120 Terjual</td>\n",
       "    </tr>\n",
       "  </tbody>\n",
       "</table>\n",
       "</div>"
      ],
      "text/plain": [
       "                                        product_name          product_price  \\\n",
       "0  GAMEN Headset Earphone Headphone Gaming Cat Ea...              Rp150.000   \n",
       "1  Livideas Headset Gaming Wired 3.5mm Stereo Bas...   Rp20.000 - Rp109.000   \n",
       "2  Onikuma K9 Rgb Baru Warna Pink Telinga Kucing ...  Rp320.000 - Rp459.000   \n",
       "3  Olike Hero Bolt TWS Pro Gaming Bluetooth Heads...              Rp229.000   \n",
       "4  ( COD ) Viqoo Headphone Gaming G10 Headset Gam...               Rp89.900   \n",
       "\n",
       "   rating   product_sold  \n",
       "0       5    764 Terjual  \n",
       "1       5  6,3RB Terjual  \n",
       "2       5  1,8RB Terjual  \n",
       "3       5  2,1RB Terjual  \n",
       "4       5    120 Terjual  "
      ]
     },
     "execution_count": 75,
     "metadata": {},
     "output_type": "execute_result"
    }
   ],
   "source": [
    "import pandas as pd\n",
    "df=pd.DataFrame(data=dict_data)\n",
    "df.head()"
   ]
  },
  {
   "cell_type": "code",
   "execution_count": 76,
   "metadata": {},
   "outputs": [],
   "source": [
    "df.to_csv('shopee_scrap.csv',index=False)"
   ]
  },
  {
   "cell_type": "code",
   "execution_count": 46,
   "metadata": {},
   "outputs": [],
   "source": [
    "# driver=webdriver.Chrome()\n",
    "# def get_url (keyword) :\n",
    "#     template = 'https://shopee.co.id/search?keyword={}'\n",
    "#     keyword= keyword.replace(' ','%20')\n",
    "    \n",
    "#     url=template.format(keyword)\n",
    "#     url += '&page={}'\n",
    "#     return url\n",
    "    \n",
    "# def record_extract(item):\n",
    "#     description= item.find('div',{'data-sqe':'name'}).text.strip()\n",
    "#     link_parent=item.find('a',{'data-sqe':'link'})\n",
    "#     url='https://shopee.co.id' + link_parent.get('href')\n",
    "    \n",
    "#     #price\n",
    "#     try:\n",
    "#         price= item.find('span','ZEgDH9').text\n",
    "        \n",
    "#     except AttributeError:\n",
    "#         return\n",
    "    \n",
    "#     #rating and review count\n",
    "#     try:\n",
    "#         rating_parent=item.find('div',{'class':'shopee-rating-stars__stars'})\n",
    "#         rating=len(rating_parent)\n",
    "#         sold_qty=item.find('div',{'class':'r6HknA'}).text\n",
    "#         x=sold_qty.split(' ')\n",
    "#         sold_qty=x[0]\n",
    "#     except AttributeError:\n",
    "#         rating='0'\n",
    "#         sold_qty='0'\n",
    "    \n",
    "#     store='Shopee'\n",
    "    \n",
    "#     result= (description,store,price,rating,sold_qty,url)\n",
    "    \n",
    "#     return result\n",
    "\n",
    "# def main(keyword):\n",
    "#     #start webdriver\n",
    "#     driver=webdriver.Chrome()\n",
    "    \n",
    "#     records=[]\n",
    "#     url=get_url(keyword)\n",
    "    \n",
    "#     for page in range(1,101):\n",
    "#         driver.get(url.format(page))\n",
    "#         soup=BeautifulSoup(driver.page_source,'html.parser')\n",
    "#         results=soup.find_all('div',{'data-component-type':'s-search-result'})\n",
    "        \n",
    "#         for item in results:\n",
    "#             record=record_extract(item)\n",
    "#             if record:\n",
    "#                 records.append(record)\n",
    "# driver.close()\n",
    "\n",
    "# with open('result_amazon.csv','w',newline='',encoding='utf-8') as f:\n",
    "#     writer= csv.writer(f)\n",
    "#     writer.writerow(['Description','Store','Price','Rating','Sold_qty','Url'])\n",
    "#     writer.writerows(records)"
   ]
  }
 ],
 "metadata": {
  "interpreter": {
   "hash": "f6246b25e200e4c5124e3e61789ac81350562f0761bbcf92ad9e48654207659c"
  },
  "kernelspec": {
   "display_name": "Python 3.9.2 64-bit",
   "language": "python",
   "name": "python3"
  },
  "language_info": {
   "codemirror_mode": {
    "name": "ipython",
    "version": 3
   },
   "file_extension": ".py",
   "mimetype": "text/x-python",
   "name": "python",
   "nbconvert_exporter": "python",
   "pygments_lexer": "ipython3",
   "version": "3.9.2"
  },
  "orig_nbformat": 4
 },
 "nbformat": 4,
 "nbformat_minor": 2
}
